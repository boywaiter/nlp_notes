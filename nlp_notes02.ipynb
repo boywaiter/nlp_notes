{
  "nbformat": 4,
  "nbformat_minor": 0,
  "metadata": {
    "colab": {
      "name": "nlp_notes02.ipynb",
      "provenance": [],
      "collapsed_sections": [],
      "include_colab_link": true
    },
    "kernelspec": {
      "name": "python3",
      "display_name": "Python 3"
    }
  },
  "cells": [
    {
      "cell_type": "markdown",
      "metadata": {
        "id": "view-in-github",
        "colab_type": "text"
      },
      "source": [
        "<a href=\"https://colab.research.google.com/github/boywaiter/nlp_notes/blob/master/nlp_notes02.ipynb\" target=\"_parent\"><img src=\"https://colab.research.google.com/assets/colab-badge.svg\" alt=\"Open In Colab\"/></a>"
      ]
    },
    {
      "cell_type": "markdown",
      "metadata": {
        "id": "0n8PJvbajLHm",
        "colab_type": "text"
      },
      "source": [
        "Chapter 2 Linear Text Claasification\n",
        "\n",
        "**text classification**: given a text document, assign it a discrete label $y\\in\\mathcal{Y}$, where $\\mathcal Y$ is the set of possible labels."
      ]
    },
    {
      "cell_type": "markdown",
      "metadata": {
        "id": "_S-pkPKHVkP6",
        "colab_type": "text"
      },
      "source": [
        "2.1 The bag of words\n"
      ]
    },
    {
      "cell_type": "code",
      "metadata": {
        "id": "ybolQlb2nrFE",
        "colab_type": "code",
        "colab": {}
      },
      "source": [
        "import torch"
      ],
      "execution_count": 0,
      "outputs": []
    },
    {
      "cell_type": "code",
      "metadata": {
        "id": "wMMhPHcBr6Ls",
        "colab_type": "code",
        "colab": {}
      },
      "source": [
        "K=3\n",
        "V=5\n",
        "x=torch.randint(10,(V,1))\n",
        "x=torch.cat((x,torch.ones(1,1,dtype=torch.long)),0)\n",
        "weights=torch.ones(K*(V+1))"
      ],
      "execution_count": 0,
      "outputs": []
    },
    {
      "cell_type": "code",
      "metadata": {
        "id": "Xzuf5jq7salE",
        "colab_type": "code",
        "colab": {}
      },
      "source": [
        "def feature_function(x,y):\n",
        "  return {(y-1)*(V+1)+i:x[i] for i in range(0,V+1)}"
      ],
      "execution_count": 0,
      "outputs": []
    },
    {
      "cell_type": "code",
      "metadata": {
        "id": "DDsL37OipVbM",
        "colab_type": "code",
        "outputId": "fd0c8934-35f2-43a2-e3b2-48e7a02cbc02",
        "colab": {
          "base_uri": "https://localhost:8080/",
          "height": 35
        }
      },
      "source": [
        "print(feature_function(x,2))"
      ],
      "execution_count": 0,
      "outputs": [
        {
          "output_type": "stream",
          "text": [
            "{6: tensor([7]), 7: tensor([5]), 8: tensor([8]), 9: tensor([7]), 10: tensor([1]), 11: tensor([1])}\n"
          ],
          "name": "stdout"
        }
      ]
    },
    {
      "cell_type": "code",
      "metadata": {
        "id": "Dg8wcWx6jAn7",
        "colab_type": "code",
        "colab": {}
      },
      "source": [
        "def compute_score(x,y,weights):\n",
        "  total=0\n",
        "  for feature, count in feature_function(x,y).items():\n",
        "    total+=weights[feature] * count\n",
        "  return total"
      ],
      "execution_count": 0,
      "outputs": []
    },
    {
      "cell_type": "code",
      "metadata": {
        "id": "Tr1W6rTjpRaT",
        "colab_type": "code",
        "outputId": "eabd96f8-2063-4a85-a787-1184a5596060",
        "colab": {
          "base_uri": "https://localhost:8080/",
          "height": 156
        }
      },
      "source": [
        "print(x)\n",
        "print(weights)\n",
        "total=compute_score(x,2,weights)\n",
        "print(total)"
      ],
      "execution_count": 0,
      "outputs": [
        {
          "output_type": "stream",
          "text": [
            "tensor([[7],\n",
            "        [5],\n",
            "        [8],\n",
            "        [7],\n",
            "        [1],\n",
            "        [1]])\n",
            "tensor([1., 1., 1., 1., 1., 1., 1., 1., 1., 1., 1., 1., 1., 1., 1., 1., 1., 1.])\n",
            "tensor([29.])\n"
          ],
          "name": "stdout"
        }
      ]
    },
    {
      "cell_type": "markdown",
      "metadata": {
        "id": "A0v-f5cKV0EO",
        "colab_type": "text"
      },
      "source": [
        "2.2 Naive Bayes"
      ]
    },
    {
      "cell_type": "markdown",
      "metadata": {
        "id": "9etGacWYI2oR",
        "colab_type": "text"
      },
      "source": [
        "2.3 Discriminative learning"
      ]
    },
    {
      "cell_type": "code",
      "metadata": {
        "id": "ocxpovpcuJuL",
        "colab_type": "code",
        "colab": {}
      },
      "source": [
        "Word_count_max=10\n",
        "N=10\n",
        "V=5\n",
        "K=2\n",
        "X=torch.randint(low=1,high=Word_count_max,size=(N,V))\n",
        "X=torch.cat((X,torch.zeros(N,1,dtype=torch.long)),1)\n",
        "y=torch.randint(0,K,size=(N,1))"
      ],
      "execution_count": 0,
      "outputs": []
    },
    {
      "cell_type": "code",
      "metadata": {
        "id": "WQMtc5pZu9O4",
        "colab_type": "code",
        "colab": {}
      },
      "source": [
        "import numpy as np\n",
        "def feature_function_binary(x,y):\n",
        "  dict1={y*(V+1)+i:x[i].item() for i in range(0,V+1)}  \n",
        "  dict2={(1-y)*(V+1)+i:0 for i in range(0,V+1)}\n",
        "  dict3={}\n",
        "  dict3.update(dict1)\n",
        "  dict3.update(dict2)\n",
        "  return dict3\n",
        "def update_theta(theta,D1,D2):\n",
        "  for feature, count in D1.items():\n",
        "    theta[feature]+=count-D2[feature]\n",
        "  return theta\n",
        "def compute_score_binary(x,y,weights):\n",
        "  total=0\n",
        "  for feature, count in feature_function_binary(x,y).items():\n",
        "    #print(\"feature=\",feature)\n",
        "    #print(\"count=\",count)\n",
        "    total+=weights[feature] * count\n",
        "  return total\n",
        "def perceptron(X,y):\n",
        "  t=0\n",
        "  theta=torch.zeros(K*(V+1),dtype=torch.float)\n",
        "  #print(\"theta=\",theta)\n",
        "  times=10\n",
        "  while(t<times):\n",
        "    i= np.random.randint(0,N,1).item()\n",
        "    x=X[i]    \n",
        "    #print(\"x=\",x)\n",
        "    hat_y=0 if compute_score_binary(x,0,theta).item()>=compute_score_binary(x,1,theta).item() else 1\n",
        "    print(\"hat_y=\",hat_y,\"y[i]=\",y[i].item())\n",
        "    if(hat_y!=y[i].item()):\n",
        "      theta=update_theta(theta,feature_function_binary(x,y[i].item()),\n",
        "                         feature_function_binary(x,hat_y))\n",
        "    t+=1\n",
        "  return theta"
      ],
      "execution_count": 0,
      "outputs": []
    },
    {
      "cell_type": "code",
      "metadata": {
        "id": "nTEzy25ev3ga",
        "colab_type": "code",
        "outputId": "ca54b02c-aef4-4ced-b018-412eac592fb2",
        "colab": {
          "base_uri": "https://localhost:8080/",
          "height": 208
        }
      },
      "source": [
        "theta=perceptron(X,y)\n",
        "print(theta)"
      ],
      "execution_count": 0,
      "outputs": [
        {
          "output_type": "stream",
          "text": [
            "hat_y= 0 y[i]= 1\n",
            "hat_y= 1 y[i]= 1\n",
            "hat_y= 1 y[i]= 1\n",
            "hat_y= 1 y[i]= 1\n",
            "hat_y= 1 y[i]= 1\n",
            "hat_y= 1 y[i]= 0\n",
            "hat_y= 0 y[i]= 0\n",
            "hat_y= 0 y[i]= 0\n",
            "hat_y= 1 y[i]= 0\n",
            "hat_y= 0 y[i]= 0\n",
            "tensor([ 7.,  1.,  7.,  7.,  3.,  0., -7., -1., -7., -7., -3.,  0.])\n"
          ],
          "name": "stdout"
        }
      ]
    },
    {
      "cell_type": "code",
      "metadata": {
        "id": "dBDlffpuMxes",
        "colab_type": "code",
        "colab": {}
      },
      "source": [
        ""
      ],
      "execution_count": 0,
      "outputs": []
    }
  ]
}